{
    "metadata": {
        "kernelspec": {
            "name": "SQL",
            "display_name": "SQL",
            "language": "sql"
        },
        "language_info": {
            "name": "sql",
            "version": ""
        }
    },
    "nbformat_minor": 2,
    "nbformat": 4,
    "cells": [
        {
            "cell_type": "markdown",
            "source": [
                "Get database name"
            ],
            "metadata": {
                "azdata_cell_guid": "fa90713e-44e1-4c19-8eef-5717762b188a"
            },
            "attachments": {}
        },
        {
            "cell_type": "code",
            "source": [
                "SELECT DB_NAME() ;"
            ],
            "metadata": {
                "azdata_cell_guid": "cca3c3f1-f64c-46da-a5b4-29a547964c7f"
            },
            "outputs": [
                {
                    "output_type": "display_data",
                    "data": {
                        "text/html": "(1 row affected)"
                    },
                    "metadata": {}
                },
                {
                    "output_type": "display_data",
                    "data": {
                        "text/html": "Total execution time: 00:00:00.090"
                    },
                    "metadata": {}
                },
                {
                    "output_type": "execute_result",
                    "metadata": {},
                    "execution_count": 6,
                    "data": {
                        "application/vnd.dataresource+json": {
                            "schema": {
                                "fields": [
                                    {
                                        "name": "(No column name)"
                                    }
                                ]
                            },
                            "data": [
                                {
                                    "0": "dbt"
                                }
                            ]
                        },
                        "text/html": [
                            "<table>",
                            "<tr><th>(No column name)</th></tr>",
                            "<tr><td>dbt</td></tr>",
                            "</table>"
                        ]
                    }
                }
            ],
            "execution_count": 6
        },
        {
            "cell_type": "markdown",
            "source": [
                "List all tables"
            ],
            "metadata": {
                "azdata_cell_guid": "c33f3afd-78cb-4c38-9b0d-906d0518f819"
            },
            "attachments": {}
        },
        {
            "cell_type": "code",
            "source": [
                "select schema_name(t.schema_id) as schema_name,\r\n",
                "       t.name as table_name,\r\n",
                "       t.create_date,\r\n",
                "       t.modify_date\r\n",
                "from sys.tables t\r\n",
                "order by schema_name,\r\n",
                "         table_name;"
            ],
            "metadata": {
                "azdata_cell_guid": "62fe9b76-1d43-4670-b5ce-132d55cf7abf"
            },
            "outputs": [
                {
                    "output_type": "display_data",
                    "data": {
                        "text/html": "(0 rows affected)"
                    },
                    "metadata": {}
                },
                {
                    "output_type": "display_data",
                    "data": {
                        "text/html": "Total execution time: 00:00:00.091"
                    },
                    "metadata": {}
                },
                {
                    "output_type": "execute_result",
                    "metadata": {},
                    "execution_count": 14,
                    "data": {
                        "application/vnd.dataresource+json": {
                            "schema": {
                                "fields": [
                                    {
                                        "name": "schema_name"
                                    },
                                    {
                                        "name": "table_name"
                                    },
                                    {
                                        "name": "create_date"
                                    },
                                    {
                                        "name": "modify_date"
                                    }
                                ]
                            },
                            "data": []
                        },
                        "text/html": [
                            "<table>",
                            "<tr><th>schema_name</th><th>table_name</th><th>create_date</th><th>modify_date</th></tr>",
                            "</table>"
                        ]
                    }
                }
            ],
            "execution_count": 14
        },
        {
            "cell_type": "code",
            "source": [
                "select schema_name(t.schema_id) as schema_name,\r\n",
                "       t.name as view_name,\r\n",
                "       t.create_date,\r\n",
                "       t.modify_date\r\n",
                "from sys.views t\r\n",
                "order by schema_name,\r\n",
                "         view_name;"
            ],
            "metadata": {
                "azdata_cell_guid": "67df8e12-1423-4e8e-92be-f45438f31dc6"
            },
            "outputs": [
                {
                    "output_type": "display_data",
                    "data": {
                        "text/html": "(4 rows affected)"
                    },
                    "metadata": {}
                },
                {
                    "output_type": "display_data",
                    "data": {
                        "text/html": "Total execution time: 00:00:00.100"
                    },
                    "metadata": {}
                },
                {
                    "output_type": "execute_result",
                    "metadata": {},
                    "execution_count": 17,
                    "data": {
                        "application/vnd.dataresource+json": {
                            "schema": {
                                "fields": [
                                    {
                                        "name": "schema_name"
                                    },
                                    {
                                        "name": "view_name"
                                    },
                                    {
                                        "name": "create_date"
                                    },
                                    {
                                        "name": "modify_date"
                                    }
                                ]
                            },
                            "data": [
                                {
                                    "0": "stg",
                                    "1": "my_first_dbt_model",
                                    "2": "2022-04-06 14:39:22.550",
                                    "3": "2022-04-06 14:39:22.777"
                                },
                                {
                                    "0": "stg",
                                    "1": "my_second_dbt_model",
                                    "2": "2022-04-06 14:39:24.020",
                                    "3": "2022-04-06 14:39:24.223"
                                },
                                {
                                    "0": "sys",
                                    "1": "database_firewall_rules",
                                    "2": "2022-02-23 12:06:29.567",
                                    "3": "2022-02-23 12:06:29.570"
                                },
                                {
                                    "0": "sys",
                                    "1": "ipv6_database_firewall_rules",
                                    "2": "2022-02-23 12:06:29.573",
                                    "3": "2022-02-23 12:06:29.577"
                                }
                            ]
                        },
                        "text/html": [
                            "<table>",
                            "<tr><th>schema_name</th><th>view_name</th><th>create_date</th><th>modify_date</th></tr>",
                            "<tr><td>stg</td><td>my_first_dbt_model</td><td>2022-04-06 14:39:22.550</td><td>2022-04-06 14:39:22.777</td></tr>",
                            "<tr><td>stg</td><td>my_second_dbt_model</td><td>2022-04-06 14:39:24.020</td><td>2022-04-06 14:39:24.223</td></tr>",
                            "<tr><td>sys</td><td>database_firewall_rules</td><td>2022-02-23 12:06:29.567</td><td>2022-02-23 12:06:29.570</td></tr>",
                            "<tr><td>sys</td><td>ipv6_database_firewall_rules</td><td>2022-02-23 12:06:29.573</td><td>2022-02-23 12:06:29.577</td></tr>",
                            "</table>"
                        ]
                    }
                }
            ],
            "execution_count": 17
        },
        {
            "cell_type": "markdown",
            "source": [
                ""
            ],
            "metadata": {
                "azdata_cell_guid": "2d0195f4-0339-46f8-9474-0c4f7c6425b5"
            }
        },
        {
            "cell_type": "code",
            "source": [
                "select * from stg.my_first_dbt_model\r\n",
                "\r\n",
                ""
            ],
            "metadata": {
                "azdata_cell_guid": "705cdb50-82b5-4cfb-995b-730590e0e416"
            },
            "outputs": [
                {
                    "output_type": "display_data",
                    "data": {
                        "text/html": "(1 row affected)"
                    },
                    "metadata": {}
                },
                {
                    "output_type": "display_data",
                    "data": {
                        "text/html": "Total execution time: 00:00:00.090"
                    },
                    "metadata": {}
                },
                {
                    "output_type": "execute_result",
                    "metadata": {},
                    "execution_count": 16,
                    "data": {
                        "application/vnd.dataresource+json": {
                            "schema": {
                                "fields": [
                                    {
                                        "name": "id"
                                    }
                                ]
                            },
                            "data": [
                                {
                                    "0": "1"
                                }
                            ]
                        },
                        "text/html": [
                            "<table>",
                            "<tr><th>id</th></tr>",
                            "<tr><td>1</td></tr>",
                            "</table>"
                        ]
                    }
                }
            ],
            "execution_count": 16
        }
    ]
}